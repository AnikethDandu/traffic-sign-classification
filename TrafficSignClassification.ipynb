{
  "nbformat": 4,
  "nbformat_minor": 0,
  "metadata": {
    "colab": {
      "name": "TrafficSignClassification.ipynb",
      "provenance": [],
      "collapsed_sections": [],
      "authorship_tag": "ABX9TyN0yS78P+o6OM6zSdehWHFm",
      "include_colab_link": true
    },
    "kernelspec": {
      "name": "python3",
      "display_name": "Python 3"
    }
  },
  "cells": [
    {
      "cell_type": "markdown",
      "metadata": {
        "id": "view-in-github",
        "colab_type": "text"
      },
      "source": [
        "<a href=\"https://colab.research.google.com/github/AnikethDandu/traffic-sign-classification/blob/main/TrafficSignClassification.ipynb\" target=\"_parent\"><img src=\"https://colab.research.google.com/assets/colab-badge.svg\" alt=\"Open In Colab\"/></a>"
      ]
    },
    {
      "cell_type": "markdown",
      "metadata": {
        "id": "BHxpB-LV3zrH"
      },
      "source": [
        "Convolutional Neural Network class"
      ]
    },
    {
      "cell_type": "code",
      "metadata": {
        "id": "g2zvNd8X31UI"
      },
      "source": [
        "import torch.nn as nn\n",
        "import torch.nn.functional as F\n",
        "\n",
        "class ConvNet(nn.Module):\n",
        "  def __init__(self):\n",
        "    # Assume input image is 32x32x3\n",
        "    self.PADDING_SIZE = 1\n",
        "    self.KERNEL_SIZE = 3\n",
        "    self.STRIDE = 1\n",
        "    self.POOL_SIZE = 2\n",
        "    super().__init__()\n",
        "    self.conv1 = nn.Conv2d(3, 32, \n",
        "                           kernel_size=self.KERNEL_SIZE, \n",
        "                           stride=self.STRIDE, \n",
        "                           padding=self.PADDING_SIZE)\n",
        "    self.conv2 = nn.Conv2d(32, 64, \n",
        "                           kernel_size=self.KERNEL_SIZE, \n",
        "                           stride=self.STRIDE, \n",
        "                           padding=self.PADDING_SIZE)\n",
        "    self.conv3 = nn.Conv2d(64, 128, \n",
        "                           kernel_size=self.KERNEL_SIZE, \n",
        "                           stride=self.STRIDE, \n",
        "                           padding=self.PADDING_SIZE)\n",
        "    self.conv4 = nn.Conv2d(128, 256, \n",
        "                           kernel_size=self.KERNEL_SIZE, \n",
        "                           stride=self.STRIDE, \n",
        "                           padding=self.PADDING_SIZE)\n",
        "    self.fc1 = nn.Linear(256 * 2 * 2, 512)\n",
        "    self.fc2 = nn.Linear(512, 43)\n",
        "    \n",
        "  def forward(self, x):\n",
        "    x = F.max_pool2d(F.relu(self.conv1(x)), self.POOL_SIZE)\n",
        "    x = F.max_pool2d(F.relu(self.conv2(x)), self.POOL_SIZE)\n",
        "    x = F.max_pool2d(F.relu(self.conv3(x)), self.POOL_SIZE)\n",
        "    x = F.max_pool2d(F.relu(self.conv4(x)), self.POOL_SIZE)\n",
        "    x = x.flatten(start_dim=1)\n",
        "    x = F.relu(self.fc1(x))\n",
        "    x = self.fc2(x)\n",
        "    return x\n",
        "\n",
        "\n",
        "    "
      ],
      "execution_count": 8,
      "outputs": []
    },
    {
      "cell_type": "code",
      "metadata": {
        "id": "rJB4ZTXnLADn"
      },
      "source": [
        "import numpy as np\n",
        "import cv2\n",
        "import os\n",
        "\n",
        "class DataProcessing:\n",
        "  def __init__(self):\n",
        "    self.IMG_SIZE = 50\n",
        "    self.CLASS_COUNT = 43\n",
        "    self.TRAIN_PATH = 'traffic_sign_images/Train'\n",
        "    self.TEST_PATH = 'traffic_sign_images/Test'\n",
        "    self.testing_data = []\n",
        "    self.training_data = []\n",
        "    self.training_folder_paths = []\n",
        "    self.label_count = {i: 0 for i in range(self.CLASS_COUNT)}\n",
        "    self.class_labels = {i: 0 for i in range(self.CLASS_COUNT)}\n",
        "\n",
        "    def make_training_dataset(self):\n",
        "      self.training_folder_paths = [self.TRAIN_PATH + f'/{str(i)}' for i in range(self.CLASS_COUNT)]\n",
        "      for path in self.training_folder_paths:\n",
        "        for image in os.listdir(path):\n",
        "          image_path = self.class_labels[int(self.training_folder_paths[path][25:])]\n",
        "          image = cv2.imread(os.path.join(path, image), cv2.IMREAD_COLOR)\n",
        "          image = cv2.resize(image, (self.IMG_SIZE, self.IMG_SIZE))\n",
        "          self.training_data.append([np.array(image), np.eye(self.CLASS_COUNT)[image_path]])\n",
        "          count[i] += 1\n",
        "      np.save('training_data.npy', self.training_data, allow_pickle=True)\n",
        "\n",
        "    def make_testing_dataset(self):\n",
        "      class_labels = {}\n",
        "      with open('traffic_sign_images/Test.csv') as file:\n",
        "        for line in file.readline():\n",
        "          line_array = line.split(',')\n",
        "          if line_array[0] != 'Width':\n",
        "            image_index = line_array[7][5:10].lstrip('0')\n",
        "            class_labels[image_index] = int(line_array[6])\n",
        "      for image in os.listdir(self.TEST_PATH):\n",
        "        image_path = class_labels[os.listdir(self.TEST_PATH).index(image)]\n",
        "        image = cv2.imread(os.path.join(self.TEST_PATH, image), cv2.IMREAD_COLOR)\n",
        "        image = cv2.resize(image, (self.IMG_SIZE, self.IMG_SIZE))\n",
        "        self.testing_data.append([np.array(image), np.eye(self.CLASS_COUNT)[image_path]])\n",
        "      np.save('testing_data.npy', self.testing_data, allow_pickle=True)\n",
        "\n",
        "\n",
        "\n",
        "    "
      ],
      "execution_count": 9,
      "outputs": []
    },
    {
      "cell_type": "code",
      "metadata": {
        "id": "vJkt76LEHJ76",
        "colab": {
          "base_uri": "https://localhost:8080/"
        },
        "outputId": "ce31d5cf-dfc0-4fcc-f3db-4ee34ad68c2d"
      },
      "source": [
        "import torch\n",
        "import torch.nn as nn\n",
        "import torch.optim as optim\n",
        "from tqdm import tqdm\n",
        "import matplotlib.pyplot as plt\n",
        "import os\n",
        "import numpy as np\n",
        "\n",
        "EPOCHS = 25\n",
        "BATCH_SIZE = 100\n",
        "\n",
        "created_npy = False\n",
        "\n",
        "training_data = []\n",
        "testing_data = []\n",
        "\n",
        "DataProccesor = DataProcessing()\n",
        "# if 'training_data.npy' not in os.listdir():\n",
        "#   DataProcessing.make_training_dataset()\n",
        "#   DataProcessing.make_testing_dataset()\n",
        "# training_data = np.load('training_data.npy', allow_pickle=True)\n",
        "# testing_data = np.load('testing_data.npy', allow_pickle=True)\n",
        "\n",
        "total_images = 0\n",
        "class_img_count = []\n",
        "for folder in os.listdir(DataProccesor.TRAIN_PATH):\n",
        "  if folder != '.DS_Store':\n",
        "    image_count = len([img for img in os.listdir(os.path.join(DataProccesor.TRAIN_PATH, folder))])\n",
        "    class_img_count.append(image_count)\n",
        "    total_images += image_count\n",
        "\n",
        "FINAL_WEIGHTS = torch.Tensor([1 - img_count/total_images for img_count in class_img_count])\n",
        "CNN = ConvNet()\n",
        "OPTIMIZER = optim.Adam(CNN.parameters(), lr=0.01)\n",
        "CRITERION = nn.CrossEntropyLoss(weight=FINAL_WEIGHTS)\n",
        "\n",
        "TRAIN_IMAGES = torch.tensor([i[0] for i in tqdm(training_data)]).view(-1, 3, 50, 50)\n",
        "TRAIN_IMAGES /= 255.0\n",
        "TRAIN_LABELS = torch.tensor([i[1] for i in tqdm(training_data)], dtype=torch.float32)\n",
        "\n",
        "TEST_IMAGES = torch.tensor([i[0] for i in tqdm(testing_data)]).view(-1, 3, 50, 50)\n",
        "TEST_IMAGES /= 255.0\n",
        "TEST_LABELS = torch.tensor([i[1] for i in tqdm(testing_data)], dtype=torch.float32)\n",
        "\n",
        "for epoch in range(EPOCHS):\n",
        "  for i in range(tqdm(range(0, len(training_data), BATCH_SIZE))):\n",
        "    BATCH_IMGS = TRAIN_IMAGES[i:i + BATCH_SIZE].view(-1, 3, 50, 50)\n",
        "    BATCH_LABELS = TRAIN_LABELS[i:i + BATCH_SIZE]\n",
        "\n",
        "    OPTIMIZER.zero_grad()\n",
        "    OUTPUTS = CNN(BATCH_IMGS)\n",
        "    LOSS = CRITERION(OUTPUTS, torch.tensor([list(label).index(1) for label in BATCH_LABELS]).long())\n",
        "    LOSS.backward()\n",
        "    OPTIMIZER.step()\n",
        "  print(f'Loss: {LOSS}')\n",
        "\n"
      ],
      "execution_count": 10,
      "outputs": [
        {
          "output_type": "stream",
          "text": [
            "0it [00:00, ?it/s]\n",
            "0it [00:00, ?it/s]\n",
            "0it [00:00, ?it/s]\n",
            "0it [00:00, ?it/s]\n"
          ],
          "name": "stderr"
        }
      ]
    }
  ]
}