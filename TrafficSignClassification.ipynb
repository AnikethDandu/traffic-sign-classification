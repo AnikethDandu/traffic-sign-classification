{
  "nbformat": 4,
  "nbformat_minor": 0,
  "metadata": {
    "colab": {
      "name": "TrafficSignClassification.ipynb",
      "provenance": [],
      "collapsed_sections": [],
      "authorship_tag": "ABX9TyPMvI2jcGwrL2g5/aj4rh2b",
      "include_colab_link": true
    },
    "kernelspec": {
      "name": "python3",
      "display_name": "Python 3"
    }
  },
  "cells": [
    {
      "cell_type": "markdown",
      "metadata": {
        "id": "view-in-github",
        "colab_type": "text"
      },
      "source": [
        "<a href=\"https://colab.research.google.com/github/AnikethDandu/traffic-sign-classification/blob/main/TrafficSignClassification.ipynb\" target=\"_parent\"><img src=\"https://colab.research.google.com/assets/colab-badge.svg\" alt=\"Open In Colab\"/></a>"
      ]
    },
    {
      "cell_type": "markdown",
      "metadata": {
        "id": "BHxpB-LV3zrH"
      },
      "source": [
        "Convolutional Neural Network class"
      ]
    },
    {
      "cell_type": "code",
      "metadata": {
        "id": "g2zvNd8X31UI"
      },
      "source": [
        "import torch.nn as nn\n",
        "import torch.nn.functional as F\n",
        "\n",
        "class ConvNet(nn.Module):\n",
        "  def __init__(self):\n",
        "    # Assume input image is 32x32x3\n",
        "    self.PADDING_SIZE = 1\n",
        "    self.KERNEL_SIZE = 3\n",
        "    self.STRIDE = 1\n",
        "    self.POOL_SIZE = 2\n",
        "    super().__init__()\n",
        "    self.conv1 = nn.Conv2d(3, 32, \n",
        "                           kernel_size=self.KERNEL_SIZE, \n",
        "                           stride=self.STRIDE, \n",
        "                           padding=self.PADDING_SIZE)\n",
        "    self.conv2 = nn.Conv2d(32, 64, \n",
        "                           kernel_size=self.KERNEL_SIZE, \n",
        "                           stride=self.STRIDE, \n",
        "                           padding=self.PADDING_SIZE)\n",
        "    self.conv3 = nn.Conv2d(64, 128, \n",
        "                           kernel_size=self.KERNEL_SIZE, \n",
        "                           stride=self.STRIDE, \n",
        "                           padding=self.PADDING_SIZE)\n",
        "    self.conv4 = nn.Conv2d(128, 256, \n",
        "                           kernel_size=self.KERNEL_SIZE, \n",
        "                           stride=self.STRIDE, \n",
        "                           padding=self.PADDING_SIZE)\n",
        "    self.fc1 = nn.Linear(256 * 2 * 2, 512)\n",
        "    self.fc2 = nn.Linear(512, 43)\n",
        "    \n",
        "  def forward(self, x):\n",
        "    x = F.max_pool2d(F.relu(self.conv1(x)), self.POOL_SIZE)\n",
        "    x = F.max_pool2d(F.relu(self.conv2(x)), self.POOL_SIZE)\n",
        "    x = F.max_pool2d(F.relu(self.conv3(x)), self.POOL_SIZE)\n",
        "    x = F.max_pool2d(F.relu(self.conv4(x)), self.POOL_SIZE)\n",
        "    x = x.flatten(start_dim=1)\n",
        "    x = F.relu(self.fc1(x))\n",
        "    x = self.fc2(x)\n",
        "    return x\n",
        "\n",
        "\n",
        "    "
      ],
      "execution_count": 17,
      "outputs": []
    },
    {
      "cell_type": "code",
      "metadata": {
        "id": "rJB4ZTXnLADn"
      },
      "source": [
        "import numpy as np\n",
        "import cv2\n",
        "import os\n",
        "\n",
        "class DataProcessing:\n",
        "  def __init__(self):\n",
        "    self.IMG_SIZE = 50\n",
        "    self.CLASS_COUNT = 43\n",
        "    self.TRAIN_PATH = 'traffic_sign_images/Train'\n",
        "    self.TEST_PATH = 'traffic_sign_images/Test'\n",
        "    self.testing_data = []\n",
        "    self.training_data = []\n",
        "    # Holds paths for each training folder\n",
        "    self.training_folders = []\n",
        "    self.label_count = {i: 0 for i in range(self.CLASS_COUNT)}\n",
        "    self.class_labels = {i: 0 for i in range(self.CLASS_COUNT)}\n",
        "\n",
        "    def store_training_paths(self):\n",
        "      self.training_folders = [self.TRAIN_PATH + f'/{str(i)}' for i in range(self.CLASS_COUNT)]\n",
        "\n",
        "    def make_training_dataset(self):\n",
        "      for path in self.training_folders:\n",
        "        for image in os.listdir(path):\n",
        "          image_path = self.class_labels[int(self.training_folders[path][25:])]\n",
        "          image = cv2.imread(os.path.join(path, image), cv2.IMREAD_COLOR)\n",
        "          image = cv2.resize(image, (self.IMG_SIZE, self.IMG_SIZE))\n",
        "          self.training_data.append([np.array(image), np.eye(43)[image_path]])\n",
        "          count[i] += 1\n",
        "      np.save('training_data.npy', self.training_data, allow_pickle=True)\n",
        "\n",
        "    def make_testing_dataset(self):\n",
        "      class_labels = {}\n",
        "      with open('traffic_sign_images/Test.csv') as file:\n",
        "        for line in file.readline():\n",
        "          line_array = line.split(',')\n",
        "          if line_array[0] != 'Width':\n",
        "            image_index = line_array[7][5:10].lstrip('0')\n",
        "            class_labels[image_index] = int(line_array[6])\n",
        "      for image in oslistdir(self.TEST_PATH):\n",
        "        image_path = class_labels[os.listdir(self.TEST_PATH).index(image)]\n",
        "        image = cv2.imread(os.path.join(self.TEST_PATH, image), cv2.IMREAD_COLOR)\n",
        "        image = cv2.resize(image, (self.IMG_SIZE, self.IMG_SIZE))\n",
        "        self.testing_data.append([np.array(image), np.eye(43)[image_path]])\n",
        "      np.save('testing_data.npy', self.testing_data, allow_pickle=True)\n",
        "\n",
        "\n",
        "\n",
        "    "
      ],
      "execution_count": 27,
      "outputs": []
    },
    {
      "cell_type": "code",
      "metadata": {
        "id": "vJkt76LEHJ76",
        "colab": {
          "base_uri": "https://localhost:8080/",
          "height": 1000
        },
        "outputId": "b8503b48-7b6b-4161-ea05-90e3c3fa93b7"
      },
      "source": [
        "import torch\n",
        "\n",
        "EPOCHS = 25\n",
        "BATCH_SIZE = 100\n",
        "\n",
        "created_npy = False\n",
        "\n",
        "training_data = []\n",
        "testing_data = []\n",
        "\n",
        "DataProccesor = DataProcessing\n",
        "# if 'training_data.npy' not in os.listdir():\n",
        "#   DataProcessing.store_training_paths()\n",
        "#   DataProcessing.make_training_dataset()\n",
        "#   DataProcessing.make_testing_dataset()\n",
        "# training_data = np.load('training_data.npy', allow_pickle=True)\n",
        "# testing_data = np.load('testing_data.npy', allow_pickle=True)\n",
        "\n",
        "total_images = 0\n",
        "class_img_count = []\n",
        "for folder in os.listdir(DataProccesor.TRAIN_PATH):\n",
        "  if folder != '.DS_Store':\n",
        "    image_count = len([img for img in os.listdir(os.path.join(DataProccesor.TRAIN_PATH, folder))])\n",
        "    class_img_count.append(x)\n",
        "    total_images += image_count\n",
        "\n",
        "FINAL_WEIGHTS = torch.Tensor([1 - img_count/total_images for img_count in class_img_count])\n"
      ],
      "execution_count": 52,
      "outputs": [
        {
          "output_type": "stream",
          "text": [
            "12\n",
            "9\n",
            "27\n",
            "28\n",
            "39\n",
            "34\n",
            "17\n",
            "36\n",
            "24\n",
            "42\n",
            "35\n",
            "4\n",
            "25\n",
            "26\n",
            "18\n",
            "40\n",
            "30\n",
            "8\n",
            "29\n",
            "11\n",
            "10\n",
            "19\n",
            "31\n",
            "7\n",
            "1\n",
            "38\n",
            "20\n",
            "14\n",
            "13\n",
            "37\n",
            "41\n",
            "3\n",
            "21\n",
            "15\n",
            "16\n",
            "23\n",
            "2\n",
            "33\n",
            "6\n",
            "0\n",
            "32\n",
            "22\n",
            "5\n"
          ],
          "name": "stdout"
        },
        {
          "output_type": "error",
          "ename": "TypeError",
          "evalue": "ignored",
          "traceback": [
            "\u001b[0;31m---------------------------------------------------------------------------\u001b[0m",
            "\u001b[0;31mTypeError\u001b[0m                                 Traceback (most recent call last)",
            "\u001b[0;32m<ipython-input-52-b8f89dcaa3a7>\u001b[0m in \u001b[0;36m<module>\u001b[0;34m()\u001b[0m\n\u001b[1;32m     27\u001b[0m \u001b[0;34m\u001b[0m\u001b[0m\n\u001b[1;32m     28\u001b[0m \u001b[0mFINAL_WEIGHTS\u001b[0m \u001b[0;34m=\u001b[0m \u001b[0mtorch\u001b[0m\u001b[0;34m.\u001b[0m\u001b[0mTensor\u001b[0m\u001b[0;34m(\u001b[0m\u001b[0;34m[\u001b[0m\u001b[0;36m1\u001b[0m \u001b[0;34m-\u001b[0m \u001b[0mimg_count\u001b[0m\u001b[0;34m/\u001b[0m\u001b[0mtotal_images\u001b[0m \u001b[0;32mfor\u001b[0m \u001b[0mimg_count\u001b[0m \u001b[0;32min\u001b[0m \u001b[0mclass_img_count\u001b[0m\u001b[0;34m]\u001b[0m\u001b[0;34m)\u001b[0m\u001b[0;34m\u001b[0m\u001b[0;34m\u001b[0m\u001b[0m\n\u001b[0;32m---> 29\u001b[0;31m \u001b[0mConvNet\u001b[0m \u001b[0;34m=\u001b[0m \u001b[0mConvNet\u001b[0m\u001b[0;34m(\u001b[0m\u001b[0;34m)\u001b[0m\u001b[0;34m\u001b[0m\u001b[0;34m\u001b[0m\u001b[0m\n\u001b[0m",
            "\u001b[0;32m/usr/local/lib/python3.7/dist-packages/torch/nn/modules/module.py\u001b[0m in \u001b[0;36m_call_impl\u001b[0;34m(self, *input, **kwargs)\u001b[0m\n\u001b[1;32m    887\u001b[0m             \u001b[0mresult\u001b[0m \u001b[0;34m=\u001b[0m \u001b[0mself\u001b[0m\u001b[0;34m.\u001b[0m\u001b[0m_slow_forward\u001b[0m\u001b[0;34m(\u001b[0m\u001b[0;34m*\u001b[0m\u001b[0minput\u001b[0m\u001b[0;34m,\u001b[0m \u001b[0;34m**\u001b[0m\u001b[0mkwargs\u001b[0m\u001b[0;34m)\u001b[0m\u001b[0;34m\u001b[0m\u001b[0;34m\u001b[0m\u001b[0m\n\u001b[1;32m    888\u001b[0m         \u001b[0;32melse\u001b[0m\u001b[0;34m:\u001b[0m\u001b[0;34m\u001b[0m\u001b[0;34m\u001b[0m\u001b[0m\n\u001b[0;32m--> 889\u001b[0;31m             \u001b[0mresult\u001b[0m \u001b[0;34m=\u001b[0m \u001b[0mself\u001b[0m\u001b[0;34m.\u001b[0m\u001b[0mforward\u001b[0m\u001b[0;34m(\u001b[0m\u001b[0;34m*\u001b[0m\u001b[0minput\u001b[0m\u001b[0;34m,\u001b[0m \u001b[0;34m**\u001b[0m\u001b[0mkwargs\u001b[0m\u001b[0;34m)\u001b[0m\u001b[0;34m\u001b[0m\u001b[0;34m\u001b[0m\u001b[0m\n\u001b[0m\u001b[1;32m    890\u001b[0m         for hook in itertools.chain(\n\u001b[1;32m    891\u001b[0m                 \u001b[0m_global_forward_hooks\u001b[0m\u001b[0;34m.\u001b[0m\u001b[0mvalues\u001b[0m\u001b[0;34m(\u001b[0m\u001b[0;34m)\u001b[0m\u001b[0;34m,\u001b[0m\u001b[0;34m\u001b[0m\u001b[0;34m\u001b[0m\u001b[0m\n",
            "\u001b[0;31mTypeError\u001b[0m: forward() missing 1 required positional argument: 'x'"
          ]
        }
      ]
    }
  ]
}