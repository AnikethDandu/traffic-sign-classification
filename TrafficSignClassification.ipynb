{
  "nbformat": 4,
  "nbformat_minor": 0,
  "metadata": {
    "colab": {
      "name": "TrafficSignClassification.ipynb",
      "provenance": [],
      "collapsed_sections": [],
      "authorship_tag": "ABX9TyOOVhSxZoB195GHEu0NSfs6",
      "include_colab_link": true
    },
    "kernelspec": {
      "name": "python3",
      "display_name": "Python 3"
    }
  },
  "cells": [
    {
      "cell_type": "markdown",
      "metadata": {
        "id": "view-in-github",
        "colab_type": "text"
      },
      "source": [
        "<a href=\"https://colab.research.google.com/github/AnikethDandu/traffic-sign-classification/blob/main/TrafficSignClassification.ipynb\" target=\"_parent\"><img src=\"https://colab.research.google.com/assets/colab-badge.svg\" alt=\"Open In Colab\"/></a>"
      ]
    },
    {
      "cell_type": "markdown",
      "metadata": {
        "id": "BHxpB-LV3zrH"
      },
      "source": [
        "Convolutional Neural Network class"
      ]
    },
    {
      "cell_type": "code",
      "metadata": {
        "id": "g2zvNd8X31UI"
      },
      "source": [
        "import torch.nn as nn\n",
        "import torch.nn.functional as F\n",
        "\n",
        "class ConvNet(nn.Module):\n",
        "  def __init__(self):\n",
        "    # Assume input image is 32x32x3\n",
        "    self.PADDING_SIZE = 1\n",
        "    self.KERNEL_SIZE = 3\n",
        "    self.STRIDE = 1\n",
        "    self.POOL_SIZE = 2\n",
        "    super().__init__()\n",
        "    self.conv1 = nn.Conv2d(3, 32, \n",
        "                           kernel_size=self.KERNEL_SIZE, \n",
        "                           stride=self.STRIDE, \n",
        "                           padding=self.PADDING_SIZE)\n",
        "    self.conv2 = nn.Conv2d(32, 64, \n",
        "                           kernel_size=self.KERNEL_SIZE, \n",
        "                           stride=self.STRIDE, \n",
        "                           padding=self.PADDING_SIZE)\n",
        "    self.conv3 = nn.Conv2d(64, 128, \n",
        "                           kernel_size=self.KERNEL_SIZE, \n",
        "                           stride=self.STRIDE, \n",
        "                           padding=self.PADDING_SIZE)\n",
        "    self.conv4 = nn.Conv2d(128, 256, \n",
        "                           kernel_size=self.KERNEL_SIZE, \n",
        "                           stride=self.STRIDE, \n",
        "                           padding=self.PADDING_SIZE)\n",
        "    self.fc1 = nn.Linear(256 * 2 * 2, 512)\n",
        "    self.fc2 = nn.Linear(512, 43)\n",
        "    \n",
        "  def forward(self, x):\n",
        "    x = F.max_pool2d(F.relu(self.conv1(x)), self.POOL_SIZE)\n",
        "    x = F.max_pool2d(F.relu(self.conv2(x)), self.POOL_SIZE)\n",
        "    x = F.max_pool2d(F.relu(self.conv3(x)), self.POOL_SIZE)\n",
        "    x = F.max_pool2d(F.relu(self.conv4(x)), self.POOL_SIZE)\n",
        "    x = x.flatten(start_dim=1)\n",
        "    x = F.relu(self.fc1(x))\n",
        "    x = self.fc2(x)\n",
        "    return x\n",
        "\n",
        "\n",
        "    "
      ],
      "execution_count": 17,
      "outputs": []
    },
    {
      "cell_type": "code",
      "metadata": {
        "id": "rJB4ZTXnLADn"
      },
      "source": [
        "import numpy as np\n",
        "import cv2\n",
        "import os\n",
        "\n",
        "class DataProcessing:\n",
        "  def __init__(self):\n",
        "    self.IMG_SIZE = 50\n",
        "    self.CLASS_COUNT = 43\n",
        "    self.TRAIN_PATH = 'traffic_sign_images/Train'\n",
        "    self.TEST_PATH = 'traffic_sign_images/Test'\n",
        "    self.testing_data = []\n",
        "    self.training_data = []\n",
        "    # Holds paths for each training folder\n",
        "    self.training_folders = []\n",
        "    self.label_count = {i: 0 for i in range(self.CLASS_COUNT)}\n",
        "    self.class_labels = {i: 0 for i in range(self.CLASS_COUNT)}\n",
        "\n",
        "    def store_training_paths(self):\n",
        "      self.training_folders = [self.TRAIN_PATH + f'/{str(i)}' for i in range(self.CLASS_COUNT)]\n",
        "\n",
        "    def make_training_dataset(self):\n",
        "      for path in self.training_folders:\n",
        "        for image in os.listdir(path):\n",
        "          image_path = self.class_labels[int(self.training_folders[path][25:])]\n",
        "          image = cv2.imread(os.join(path, image), cv2.IMREAD_COLOR)\n",
        "          image = cv2.resize(image, (self.IMG_SIZE, self.IMG_SIZE))\n",
        "          self.training_data.append([np.array(image), np.eye(43)[image_path]])\n",
        "          count[i] += 1\n",
        "      np.save('training_data.npy', self.training_data, allow_pickle=True)\n",
        "\n",
        "    def make_testing_dataset(self):\n",
        "      class_labels = {}\n",
        "      with open('traffic_sign_images/Test.csv') as file:\n",
        "        for line in file.readline():\n",
        "          line_array = line.split(',')\n",
        "          if line_array[0] != 'Width':\n",
        "            image_index = line_array[7][5:10].lstrip('0')\n",
        "            class_labels[image_index] = int(line_array[6])\n",
        "      for image in oslistdir(self.TEST_PATH):\n",
        "        image_path = class_labels[os.listdir(self.TEST_PATH).index(image)]\n",
        "        image = cv2.imread(os.join(self.TEST_PATH, image), cv2.IMREAD_COLOR)\n",
        "        image = cv2.resize(image, (self.IMG_SIZE, self.IMG_SIZE))\n",
        "        self.testing_data.append([np.array(image), np.eye(43)[image_path]])\n",
        "      np.save('testing_data.npy', self.testing_data, allow_pickle=True)\n",
        "\n",
        "\n",
        "\n",
        "    "
      ],
      "execution_count": null,
      "outputs": []
    },
    {
      "cell_type": "code",
      "metadata": {
        "id": "vJkt76LEHJ76"
      },
      "source": [
        "EPOCHS = 25\n",
        "BATCH_SIZE = 100\n",
        "\n",
        "ConvNet = ConvNet()"
      ],
      "execution_count": 18,
      "outputs": []
    }
  ]
}