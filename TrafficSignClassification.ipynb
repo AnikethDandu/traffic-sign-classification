{
  "nbformat": 4,
  "nbformat_minor": 0,
  "metadata": {
    "colab": {
      "name": "TrafficSignClassification.ipynb",
      "provenance": [],
      "collapsed_sections": [],
      "authorship_tag": "ABX9TyNtnmLW7DJ8/6MyqTLWGbj6",
      "include_colab_link": true
    },
    "kernelspec": {
      "display_name": "Python 3",
      "name": "python3"
    }
  },
  "cells": [
    {
      "cell_type": "markdown",
      "metadata": {
        "id": "view-in-github",
        "colab_type": "text"
      },
      "source": [
        "<a href=\"https://colab.research.google.com/github/AnikethDandu/traffic-sign-classification/blob/main/TrafficSignClassification.ipynb\" target=\"_parent\"><img src=\"https://colab.research.google.com/assets/colab-badge.svg\" alt=\"Open In Colab\"/></a>"
      ]
    },
    {
      "cell_type": "markdown",
      "metadata": {
        "id": "BHxpB-LV3zrH"
      },
      "source": [
        "Convolutional Neural Network class"
      ]
    },
    {
      "cell_type": "code",
      "metadata": {
        "id": "g2zvNd8X31UI"
      },
      "source": [
        "import torch.nn as nn\n",
        "import torch.nn.functional as F\n",
        "\n",
        "class ConvNet(nn.Module):\n",
        "  def __init__(self):\n",
        "    # Input image: 32x32x3\n",
        "    self.PADDING_SIZE = 1\n",
        "    self.KERNEL_SIZE = 3\n",
        "    self.STRIDE = 1\n",
        "    self.POOL_SIZE = 2\n",
        "    super().__init__()\n",
        "    self.conv1 = nn.Conv2d(3, 32, \n",
        "                           kernel_size=self.KERNEL_SIZE, \n",
        "                           stride=self.STRIDE, \n",
        "                           padding=self.PADDING_SIZE)\n",
        "    self.conv2 = nn.Conv2d(32, 64, \n",
        "                           kernel_size=self.KERNEL_SIZE, \n",
        "                           stride=self.STRIDE, \n",
        "                           padding=self.PADDING_SIZE)\n",
        "    self.conv3 = nn.Conv2d(64, 128, \n",
        "                           kernel_size=self.KERNEL_SIZE, \n",
        "                           stride=self.STRIDE, \n",
        "                           padding=self.PADDING_SIZE)\n",
        "    self.conv4 = nn.Conv2d(128, 256, \n",
        "                           kernel_size=self.KERNEL_SIZE, \n",
        "                           stride=self.STRIDE, \n",
        "                           padding=self.PADDING_SIZE)\n",
        "    self.fc1 = nn.Linear(2304, 512)\n",
        "    self.fc2 = nn.Linear(512, 43)\n",
        "    \n",
        "  def forward(self, x):\n",
        "    x = F.max_pool2d(F.relu(self.conv1(x)), self.POOL_SIZE)\n",
        "    x = F.max_pool2d(F.relu(self.conv2(x)), self.POOL_SIZE)\n",
        "    x = F.max_pool2d(F.relu(self.conv3(x)), self.POOL_SIZE)\n",
        "    x = F.max_pool2d(F.relu(self.conv4(x)), self.POOL_SIZE)\n",
        "    x = x.flatten(start_dim=1)\n",
        "    x = F.relu(self.fc1(x))\n",
        "    x = self.fc2(x)\n",
        "    return x\n",
        "\n",
        "\n",
        "    "
      ],
      "execution_count": null,
      "outputs": []
    },
    {
      "cell_type": "code",
      "metadata": {
        "id": "rJB4ZTXnLADn"
      },
      "source": [
        "import numpy as np\n",
        "import cv2\n",
        "import os\n",
        "\n",
        "class DataProcessing():\n",
        "  def __init__(self):\n",
        "    self.IMG_SIZE = 50\n",
        "    self.CLASS_COUNT = 43\n",
        "    self.TRAIN_PATH = 'traffic_sign_images/Train'\n",
        "    self.TEST_PATH = 'traffic_sign_images/Test'\n",
        "    self.testing_data = []\n",
        "    self.training_data = []\n",
        "    self.training_folder_paths = []\n",
        "\n",
        "  def make_train_set(self):\n",
        "    self.training_folder_paths = [self.TRAIN_PATH + f'/{str(i)}' for i in range(self.CLASS_COUNT)]\n",
        "    for path in self.training_folder_paths:\n",
        "      for image in os.listdir(path):\n",
        "        image_class = int(self.training_folder_paths.index(path))\n",
        "        image = cv2.imread(os.path.join(path, image), cv2.IMREAD_COLOR)\n",
        "        image = cv2.resize(image, (self.IMG_SIZE, self.IMG_SIZE))\n",
        "        self.training_data.append([np.array(image), np.eye(self.CLASS_COUNT)[image_class]])\n",
        "    np.random.shuffle(self.training_data)\n",
        "    np.save('training_data.npy', self.training_data, allow_pickle=True)\n",
        "\n",
        "  def make_test_set(self):\n",
        "    class_labels = {}\n",
        "    with open('traffic_sign_images/Test.csv', 'r') as file:\n",
        "      for line in file.readlines():\n",
        "        line_array = line.split(',') \n",
        "        if line_array[0] != 'Width':\n",
        "          image_index = line_array[7][-10:-5].lstrip('0')\n",
        "          class_labels[image_index] = int(line_array[6])\n",
        "    for image in os.listdir(self.TEST_PATH):\n",
        "      if image[0] != 'G':\n",
        "        image_class = class_labels[image[0:5].lstrip('0')]\n",
        "        image = cv2.imread(os.path.join(self.TEST_PATH, image), cv2.IMREAD_COLOR)\n",
        "        image = cv2.resize(image, (self.IMG_SIZE, self.IMG_SIZE))\n",
        "        self.testing_data.append([np.array(image), np.eye(self.CLASS_COUNT)[image_class]])\n",
        "    np.save('testing_data.npy', self.testing_data, allow_pickle=True)\n",
        "\n",
        "\n",
        "    "
      ],
      "execution_count": null,
      "outputs": []
    },
    {
      "cell_type": "code",
      "metadata": {
        "id": "vJkt76LEHJ76"
      },
      "source": [
        "import torch\n",
        "import torch.nn as nn\n",
        "import torch.optim as optim\n",
        "from tqdm import tqdm\n",
        "import os\n",
        "import numpy as np\n",
        "\n",
        "EPOCHS = 10\n",
        "BATCH_SIZE = 32\n",
        "\n",
        "training_data = []\n",
        "testing_data = []\n",
        "\n",
        "image_size = (-1, 3, 50, 50)\n",
        "\n",
        "DataProccesor = DataProcessing()\n",
        "if 'training_data.npy' not in os.listdir():\n",
        "  DataProccesor.make_train_set()\n",
        "if 'testing_data.npy' not in os.listdir():\n",
        "  DataProccesor.make_test_set()\n",
        "training_data = np.load('training_data.npy', allow_pickle=True)\n",
        "testing_data = np.load('testing_data.npy', allow_pickle=True)\n",
        "\n",
        "total_images = 0\n",
        "class_img_count = []\n",
        "for folder in os.listdir(DataProccesor.TRAIN_PATH):\n",
        "  if folder != '.DS_Store':\n",
        "    image_count = len([img for img in os.listdir(os.path.join(DataProccesor.TRAIN_PATH, folder))])\n",
        "    class_img_count.append(image_count)\n",
        "    total_images += image_count\n",
        "\n",
        "FINAL_WEIGHTS = torch.Tensor([1 - img_count/total_images for img_count in class_img_count])\n",
        "CNN = ConvNet()\n",
        "optimizer = optim.Adam(CNN.parameters(), lr=0.002)\n",
        "criterion = nn.CrossEntropyLoss(weight=FINAL_WEIGHTS)\n",
        "\n",
        "TRAIN_IMAGES = torch.tensor([i[0] for i in tqdm(training_data)]).view(image_size)\n",
        "TRAIN_IMAGES = TRAIN_IMAGES / 255.0\n",
        "TRAIN_LABELS = torch.tensor([i[1] for i in tqdm(training_data)], dtype=torch.float32)\n",
        "\n",
        "TEST_IMAGES = torch.tensor([i[0] for i in tqdm(testing_data)]).view(image_size)\n",
        "TEST_IMAGES = TEST_IMAGES / 255.0\n",
        "TEST_LABELS = torch.tensor([i[1] for i in tqdm(testing_data)], dtype=torch.float32)\n",
        "\n",
        "for epoch in range(EPOCHS):\n",
        "  for i in tqdm(range(0, len(training_data), BATCH_SIZE)):\n",
        "    BATCH_IMGS = TRAIN_IMAGES[i:i + BATCH_SIZE].view(image_size)\n",
        "    BATCH_LABELS = TRAIN_LABELS[i:i + BATCH_SIZE]\n",
        "\n",
        "    optimizer.zero_grad()\n",
        "    OUTPUTS = CNN(BATCH_IMGS)\n",
        "    loss = criterion(OUTPUTS, torch.tensor([list(label).index(1) for label in BATCH_LABELS]).long())\n",
        "    loss.backward()\n",
        "    optimizer.step()\n",
        "  print(f'Epoch: {epoch}, Loss: {loss}')\n",
        "\n",
        "with torch.no_grad():\n",
        "  total_classes = {}\n",
        "  class_correct = {}\n",
        "  total_images = 0\n",
        "  total_correct = 0 \n",
        "  for i in tqdm(range(len(TEST_IMAGES))):\n",
        "    CORRECT_CLASS = torch.argmax(TEST_LABELS[i])\n",
        "    PREDICTED_CLASS = torch.argmax(CNN(TEST_IMAGES[i].view(image_size))[0])\n",
        "    \n",
        "    total_images += 1\n",
        "    total_classes[PREDICTED_CLASS.item()] = total_classes[PREDICTED_CLASS.item()] + 1 if PREDICTED_CLASS in total_classes else 1\n",
        "    \n",
        "    if PREDICTED_CLASS == CORRECT_CLASS:\n",
        "      total_correct += 1\n",
        "      class_correct[CORRECT_CLASS.item()] = class_correct[CORRECT_CLASS.item()] + 1 if CORRECT_CLASS in class_correct else 1\n",
        "print([f'Accuracy for {img_class}: {round(100 * class_correct[img_class] / total_classes[img_class], 3)}%' for img_class in class_correct])\n",
        "print(f'Total accuracy: {round(100 * total_correct / total_images, 3)}%')\n",
        "\n"
      ],
      "execution_count": null,
      "outputs": []
    },
    {
      "cell_type": "code",
      "metadata": {
        "id": "KQgAG3K6-u43"
      },
      "source": [
        "\n",
        "from google.colab import drive\n",
        "drive.mount('/content/gdrive')\n",
        "!cp -r /content/gdrive/My\\ Drive/ColabNotebooks/Data/ traffic_sign_images.zip\n",
        "!unzip traffic_sign_images.zip/traffic_sign_images.zip\n",
        "!rm -r traffic_sign_images.zip/\n"
      ],
      "execution_count": null,
      "outputs": []
    },
    {
      "cell_type": "code",
      "metadata": {
        "colab": {
          "base_uri": "https://localhost:8080/"
        },
        "id": "uKU0VKEt7laU",
        "outputId": "21ad71c1-a97b-492b-b464-d5e01761e0e1"
      },
      "source": [
        "'''import pandas as pd\n",
        "df = pd.read_csv('traffic_sign_images/Train.csv')\n",
        "print(df)'''\n",
        "\n",
        "from torch.utils.data import Dataset\n",
        "class TrafficSignDataset(Dataset):\n",
        "  def __init__(self):\n",
        "    pass\n",
        "  def __len__(self):\n",
        "    pass\n",
        "  def __getitem__(self, idx):\n",
        "    pass"
      ],
      "execution_count": 3,
      "outputs": [
        {
          "output_type": "stream",
          "text": [
            "       Width  Height  Roi.X1  ...  Roi.Y2  ClassId                            Path\n",
            "0         27      26       5  ...      20       20  Train/20/00020_00000_00000.png\n",
            "1         28      27       5  ...      22       20  Train/20/00020_00000_00001.png\n",
            "2         29      26       6  ...      21       20  Train/20/00020_00000_00002.png\n",
            "3         28      27       5  ...      22       20  Train/20/00020_00000_00003.png\n",
            "4         28      26       5  ...      21       20  Train/20/00020_00000_00004.png\n",
            "...      ...     ...     ...  ...     ...      ...                             ...\n",
            "39204     52      56       5  ...      51       42  Train/42/00042_00007_00025.png\n",
            "39205     56      58       5  ...      53       42  Train/42/00042_00007_00026.png\n",
            "39206     58      62       5  ...      57       42  Train/42/00042_00007_00027.png\n",
            "39207     63      69       5  ...      63       42  Train/42/00042_00007_00028.png\n",
            "39208     68      69       7  ...      63       42  Train/42/00042_00007_00029.png\n",
            "\n",
            "[39209 rows x 8 columns]\n"
          ],
          "name": "stdout"
        }
      ]
    }
  ]
}